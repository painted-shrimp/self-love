{
  "nbformat": 4,
  "nbformat_minor": 0,
  "metadata": {
    "colab": {
      "provenance": [],
      "mount_file_id": "1WoEZILAhuh4ZABXQr7wrtyWwmmNge4XN",
      "authorship_tag": "ABX9TyMkc92JzLGNsq3nk+fMqW93"
    },
    "kernelspec": {
      "name": "python3",
      "display_name": "Python 3"
    },
    "language_info": {
      "name": "python"
    }
  },
  "cells": [
    {
      "cell_type": "code",
      "execution_count": null,
      "metadata": {
        "colab": {
          "base_uri": "https://localhost:8080/"
        },
        "id": "__MyANBv7lf1",
        "outputId": "608ced04-718b-4e82-af07-e74d72d1816f"
      },
      "outputs": [
        {
          "output_type": "stream",
          "name": "stdout",
          "text": [
            "Looking in indexes: https://pypi.org/simple, https://us-python.pkg.dev/colab-wheels/public/simple/\n",
            "Requirement already satisfied: requests in /usr/local/lib/python3.9/dist-packages (2.27.1)\n",
            "Requirement already satisfied: charset-normalizer~=2.0.0 in /usr/local/lib/python3.9/dist-packages (from requests) (2.0.12)\n",
            "Requirement already satisfied: certifi>=2017.4.17 in /usr/local/lib/python3.9/dist-packages (from requests) (2022.12.7)\n",
            "Requirement already satisfied: idna<4,>=2.5 in /usr/local/lib/python3.9/dist-packages (from requests) (3.4)\n",
            "Requirement already satisfied: urllib3<1.27,>=1.21.1 in /usr/local/lib/python3.9/dist-packages (from requests) (1.26.15)\n"
          ]
        }
      ],
      "source": [
        "!pip install requests"
      ]
    },
    {
      "cell_type": "code",
      "source": [
        "import requests\n",
        "from bs4 import BeautifulSoup\n",
        "import smtplib\n",
        "import html5lib"
      ],
      "metadata": {
        "id": "orG7hfNX_H6E"
      },
      "execution_count": null,
      "outputs": []
    },
    {
      "cell_type": "code",
      "source": [
        "flipkartProductURL = \"https://www.flipkart.com/cosrx-advanced-snail-96-mucin-power-essence-100ml-men-women/p/itmdbc94c0ea90d9?pid=TNRG4HH68VZFZMGY&lid=LSTTNRG4HH68VZFZMGYFBNHHM&marketplace=FLIPKART&cmpid=content_toner_8965229628_gmc\"\n",
        "amazonProductURL = \"https://www.amazon.in/COSRX-Advanced-Snail-Mucin-Essence/dp/B07N3SMBRM/ref=sr_1_5?keywords=snail+mucin&qid=1679734808&sr=8-5\""
      ],
      "metadata": {
        "id": "pNrfXocE_T_L"
      },
      "execution_count": null,
      "outputs": []
    },
    {
      "cell_type": "code",
      "source": [
        "headers={\"user-agent\":\"Mozilla/5.0 (Windows NT 10.0; Win64; x64; rv:109.0) Gecko/20100101 Firefox/111.0\"}"
      ],
      "metadata": {
        "id": "kgMQ2QUnACaH"
      },
      "execution_count": null,
      "outputs": []
    },
    {
      "cell_type": "code",
      "source": [
        "def trackPrices():\n",
        "  if flipkartProductURL and amazonProductURL:\n",
        "    flipkartResponse = requests.get(flipkartProductURL, headers=headers)\n",
        "    amazonResponse = requests.get(amazonProductURL, headers=headers)\n",
        "    flipkartSoup = BeautifulSoup(flipkartResponse.content, 'html5lib')\n",
        "    amazonSoup = BeautifulSoup(amazonResponse.content, 'html5lib')\n",
        "    flipkartProductPrice = float(flipkartSoup.find('div', attrs ='_30jeq3 _16Jk6d').text.replace(',','')[1:])\n",
        "    amazonProductPrice = float(amazonSoup.find('span', attrs='a-price-whole').text.replace(',',''))\n",
        "    print('Flipkart product is ', str(flipkartProductPrice))\n",
        "    print('Amazon product is ', str(amazonProductPrice))\n",
        "    if flipkartProductPrice and amazonProductPrice:\n",
        "      mail_list(amazonProductPrice, flipkartProductPrice)"
      ],
      "metadata": {
        "id": "sk9KWI_jfWEp"
      },
      "execution_count": null,
      "outputs": []
    },
    {
      "cell_type": "code",
      "source": [
        "def mail_list(amazonPrice, flipkartPrice):\n",
        "  from email.message import EmailMessage\n",
        "  import ssl\n",
        "  import smtplib\n",
        "\n",
        "  email_sender = 'paintedshrimprojects@gmail.com'\n",
        "  email_password = 'sdcbmsxtqzcdxppr'\n",
        "  subscribers = [\"\"]  \n",
        "  subscribers = listing()\n",
        "  subject = 'Price fell down'\n",
        "\n",
        "  if amazonPrice and flipkartPrice and (amazonPrice > flipkartPrice):\n",
        "    msg = 'Flipkart price is low. Price is Rs. ' + str(flipkartPrice)\n",
        "  elif flipkartPrice > amazonPrice:\n",
        "    msg = 'Amazon price is low. Price is Rs. ' + str(amazonPrice)\n",
        "\n",
        "  em = EmailMessage()\n",
        "  em['From'] = email_sender\n",
        "  em['To'] = subscribers\n",
        "  em['Subject'] = subject\n",
        "  em.set_content(msg)\n",
        "\n",
        "  server = smtplib.SMTP('smtp.gmail.com', 587)\n",
        "  server.starttls()\n",
        "  server.login(email_sender, email_password)\n",
        "  server.sendmail(email_sender, subscribers, msg)\n",
        "  print('Mail sent successfully')\n",
        "  server.quit()"
      ],
      "metadata": {
        "id": "P7g8-66XLBAc"
      },
      "execution_count": null,
      "outputs": []
    },
    {
      "cell_type": "code",
      "source": [
        "import pandas as pd\n",
        "def listing():\n",
        "  dataset = pd.read_csv(\"/home/Subscriber List - Sheet1.csv\")\n",
        "  data = dataset.iloc[:, 2:].values\n",
        "  return data"
      ],
      "metadata": {
        "id": "vGkCRLxNRbLZ"
      },
      "execution_count": null,
      "outputs": []
    },
    {
      "cell_type": "code",
      "source": [
        "trackPrices()"
      ],
      "metadata": {
        "colab": {
          "base_uri": "https://localhost:8080/"
        },
        "id": "NHe8MRD6LE3g",
        "outputId": "f028b68c-7d85-4e0e-8814-4dc62985de75"
      },
      "execution_count": null,
      "outputs": [
        {
          "output_type": "stream",
          "name": "stdout",
          "text": [
            "Flipkart product is  1099.0\n",
            "Amazon product is  1249.0\n",
            "Mail sent successfully\n"
          ]
        }
      ]
    }
  ]
}